{
 "cells": [
  {
   "cell_type": "code",
   "execution_count": null,
   "metadata": {},
   "outputs": [],
   "source": [
    "import numpy as np\n",
    "import pandas\n",
    "from matplotlib import pyplot as plt\n",
    "%matplotlib notebook"
   ]
  },
  {
   "cell_type": "code",
   "execution_count": null,
   "metadata": {},
   "outputs": [],
   "source": [
    "df = pandas.read_csv('iris.csv').sample(frac=1)"
   ]
  },
  {
   "cell_type": "code",
   "execution_count": null,
   "metadata": {},
   "outputs": [],
   "source": [
    "df.species.unique()"
   ]
  },
  {
   "cell_type": "code",
   "execution_count": null,
   "metadata": {
    "scrolled": false
   },
   "outputs": [],
   "source": [
    "*features, result = df.columns\n",
    "X, y = df[features].values, df[result].values\n",
    "\n",
    "fig, axes = plt.subplots()\n",
    "# visualizing the last two features vs the classification\n",
    "for (a, b), c in zip(X[:,2:4], y):\n",
    "    if c == 'setosa':\n",
    "        axes.plot([a], [b], marker='x', markersize=3, color='red')\n",
    "    elif c == 'versicolor':\n",
    "        axes.plot([a], [b], marker='o', markersize=3, color='blue')  \n",
    "    else:\n",
    "        axes.plot([a], [b], marker='^', markersize=3, color='green')  "
   ]
  },
  {
   "cell_type": "code",
   "execution_count": null,
   "metadata": {},
   "outputs": [],
   "source": [
    "def train(X, y):\n",
    "    pass"
   ]
  },
  {
   "cell_type": "code",
   "execution_count": null,
   "metadata": {},
   "outputs": [],
   "source": [
    "def dist(u, v):\n",
    "    return np.linalg.norm(u - v)\n",
    "\n",
    "def predict(X, y, v, k=10):\n",
    "    distances = []\n",
    "    for u, c in zip(X, y):\n",
    "        distances.append((dist(u, v), c))\n",
    "    distances.sort(key=lambda x: x[0])\n",
    "    \n",
    "    closest_k = distances[:k]\n",
    "    classes = [x[1] for x in closest_k]\n",
    "    return max(set(classes), key=lambda x: classes.count(x))"
   ]
  },
  {
   "cell_type": "code",
   "execution_count": null,
   "metadata": {},
   "outputs": [],
   "source": [
    "correct = 0\n",
    "train_amount = int(len(X) * 0.75)\n",
    "trainX = X[:train_amount]\n",
    "trainY = y[:train_amount]\n",
    "\n",
    "testX = X[train_amount:]\n",
    "testY = y[train_amount:]\n",
    "\n",
    "for u, actual in zip(testX, testY):\n",
    "    prediction = predict(trainX, trainY, u, k=5)\n",
    "    if prediction == actual:\n",
    "        correct += 1\n",
    "\n",
    "print(f'Accuracy: {correct / len(testX)}')"
   ]
  }
 ],
 "metadata": {
  "kernelspec": {
   "display_name": "Python 3",
   "language": "python",
   "name": "python3"
  },
  "language_info": {
   "codemirror_mode": {
    "name": "ipython",
    "version": 3
   },
   "file_extension": ".py",
   "mimetype": "text/x-python",
   "name": "python",
   "nbconvert_exporter": "python",
   "pygments_lexer": "ipython3",
   "version": "3.6.1+"
  }
 },
 "nbformat": 4,
 "nbformat_minor": 2
}
